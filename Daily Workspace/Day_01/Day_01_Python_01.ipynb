version https://git-lfs.github.com/spec/v1
oid sha256:9a2d3673a9d1f0a297e932cf03705bd0e91eb16db7edfcb6e657acaa9dd25080
size 10395
