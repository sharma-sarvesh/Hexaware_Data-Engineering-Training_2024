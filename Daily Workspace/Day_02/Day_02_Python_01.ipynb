version https://git-lfs.github.com/spec/v1
oid sha256:f9f3bfe24cd64409eacbbb441d24ba2c1bc7b26a746ee12089a38b8b624b951b
size 28587
