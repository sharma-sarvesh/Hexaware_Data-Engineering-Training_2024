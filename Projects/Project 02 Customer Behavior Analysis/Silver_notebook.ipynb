version https://git-lfs.github.com/spec/v1
oid sha256:7b7583eef0706e2823fc49edc20f68ceee3be583fd523f48ff74c527d6ea1b07
size 162626
